{
 "cells": [
  {
   "cell_type": "code",
   "execution_count": 99,
   "metadata": {
    "collapsed": true
   },
   "outputs": [],
   "source": [
    "import pandas as pd\n",
    "import numpy as np\n",
    "import matplotlib.pyplot as plt"
   ]
  },
  {
   "cell_type": "code",
   "execution_count": 100,
   "outputs": [],
   "source": [
    "happiness2015 = pd.read_csv(\"World_Happiness_2015.csv\")\n",
    "happiness2016 = pd.read_csv(\"World_Happiness_2016.csv\")\n",
    "happiness2017 = pd.read_csv(\"World_Happiness_2017.csv\")"
   ],
   "metadata": {
    "collapsed": false,
    "pycharm": {
     "name": "#%%\n"
    }
   }
  },
  {
   "cell_type": "code",
   "execution_count": 101,
   "outputs": [
    {
     "data": {
      "text/plain": "       Country                     Region  Happiness Rank  Happiness Score  \\\n0  Switzerland             Western Europe               1            7.587   \n1      Iceland             Western Europe               2            7.561   \n2      Denmark             Western Europe               3            7.527   \n3       Norway             Western Europe               4            7.522   \n4       Canada              North America               5            7.427   \n5      Finland             Western Europe               6            7.406   \n6  Netherlands             Western Europe               7            7.378   \n7       Sweden             Western Europe               8            7.364   \n8  New Zealand  Australia and New Zealand               9            7.286   \n9    Australia  Australia and New Zealand              10            7.284   \n\n   Standard Error  Economy (GDP per Capita)   Family  \\\n0         0.03411                   1.39651  1.34951   \n1         0.04884                   1.30232  1.40223   \n2         0.03328                   1.32548  1.36058   \n3         0.03880                   1.45900  1.33095   \n4         0.03553                   1.32629  1.32261   \n5         0.03140                   1.29025  1.31826   \n6         0.02799                   1.32944  1.28017   \n7         0.03157                   1.33171  1.28907   \n8         0.03371                   1.25018  1.31967   \n9         0.04083                   1.33358  1.30923   \n\n   Health (Life Expectancy)  Freedom  Trust (Government Corruption)  \\\n0                   0.94143  0.66557                        0.41978   \n1                   0.94784  0.62877                        0.14145   \n2                   0.87464  0.64938                        0.48357   \n3                   0.88521  0.66973                        0.36503   \n4                   0.90563  0.63297                        0.32957   \n5                   0.88911  0.64169                        0.41372   \n6                   0.89284  0.61576                        0.31814   \n7                   0.91087  0.65980                        0.43844   \n8                   0.90837  0.63938                        0.42922   \n9                   0.93156  0.65124                        0.35637   \n\n   Generosity  Dystopia Residual  \n0     0.29678            2.51738  \n1     0.43630            2.70201  \n2     0.34139            2.49204  \n3     0.34699            2.46531  \n4     0.45811            2.45176  \n5     0.23351            2.61955  \n6     0.47610            2.46570  \n7     0.36262            2.37119  \n8     0.47501            2.26425  \n9     0.43562            2.26646  ",
      "text/html": "<div>\n<style scoped>\n    .dataframe tbody tr th:only-of-type {\n        vertical-align: middle;\n    }\n\n    .dataframe tbody tr th {\n        vertical-align: top;\n    }\n\n    .dataframe thead th {\n        text-align: right;\n    }\n</style>\n<table border=\"1\" class=\"dataframe\">\n  <thead>\n    <tr style=\"text-align: right;\">\n      <th></th>\n      <th>Country</th>\n      <th>Region</th>\n      <th>Happiness Rank</th>\n      <th>Happiness Score</th>\n      <th>Standard Error</th>\n      <th>Economy (GDP per Capita)</th>\n      <th>Family</th>\n      <th>Health (Life Expectancy)</th>\n      <th>Freedom</th>\n      <th>Trust (Government Corruption)</th>\n      <th>Generosity</th>\n      <th>Dystopia Residual</th>\n    </tr>\n  </thead>\n  <tbody>\n    <tr>\n      <th>0</th>\n      <td>Switzerland</td>\n      <td>Western Europe</td>\n      <td>1</td>\n      <td>7.587</td>\n      <td>0.03411</td>\n      <td>1.39651</td>\n      <td>1.34951</td>\n      <td>0.94143</td>\n      <td>0.66557</td>\n      <td>0.41978</td>\n      <td>0.29678</td>\n      <td>2.51738</td>\n    </tr>\n    <tr>\n      <th>1</th>\n      <td>Iceland</td>\n      <td>Western Europe</td>\n      <td>2</td>\n      <td>7.561</td>\n      <td>0.04884</td>\n      <td>1.30232</td>\n      <td>1.40223</td>\n      <td>0.94784</td>\n      <td>0.62877</td>\n      <td>0.14145</td>\n      <td>0.43630</td>\n      <td>2.70201</td>\n    </tr>\n    <tr>\n      <th>2</th>\n      <td>Denmark</td>\n      <td>Western Europe</td>\n      <td>3</td>\n      <td>7.527</td>\n      <td>0.03328</td>\n      <td>1.32548</td>\n      <td>1.36058</td>\n      <td>0.87464</td>\n      <td>0.64938</td>\n      <td>0.48357</td>\n      <td>0.34139</td>\n      <td>2.49204</td>\n    </tr>\n    <tr>\n      <th>3</th>\n      <td>Norway</td>\n      <td>Western Europe</td>\n      <td>4</td>\n      <td>7.522</td>\n      <td>0.03880</td>\n      <td>1.45900</td>\n      <td>1.33095</td>\n      <td>0.88521</td>\n      <td>0.66973</td>\n      <td>0.36503</td>\n      <td>0.34699</td>\n      <td>2.46531</td>\n    </tr>\n    <tr>\n      <th>4</th>\n      <td>Canada</td>\n      <td>North America</td>\n      <td>5</td>\n      <td>7.427</td>\n      <td>0.03553</td>\n      <td>1.32629</td>\n      <td>1.32261</td>\n      <td>0.90563</td>\n      <td>0.63297</td>\n      <td>0.32957</td>\n      <td>0.45811</td>\n      <td>2.45176</td>\n    </tr>\n    <tr>\n      <th>5</th>\n      <td>Finland</td>\n      <td>Western Europe</td>\n      <td>6</td>\n      <td>7.406</td>\n      <td>0.03140</td>\n      <td>1.29025</td>\n      <td>1.31826</td>\n      <td>0.88911</td>\n      <td>0.64169</td>\n      <td>0.41372</td>\n      <td>0.23351</td>\n      <td>2.61955</td>\n    </tr>\n    <tr>\n      <th>6</th>\n      <td>Netherlands</td>\n      <td>Western Europe</td>\n      <td>7</td>\n      <td>7.378</td>\n      <td>0.02799</td>\n      <td>1.32944</td>\n      <td>1.28017</td>\n      <td>0.89284</td>\n      <td>0.61576</td>\n      <td>0.31814</td>\n      <td>0.47610</td>\n      <td>2.46570</td>\n    </tr>\n    <tr>\n      <th>7</th>\n      <td>Sweden</td>\n      <td>Western Europe</td>\n      <td>8</td>\n      <td>7.364</td>\n      <td>0.03157</td>\n      <td>1.33171</td>\n      <td>1.28907</td>\n      <td>0.91087</td>\n      <td>0.65980</td>\n      <td>0.43844</td>\n      <td>0.36262</td>\n      <td>2.37119</td>\n    </tr>\n    <tr>\n      <th>8</th>\n      <td>New Zealand</td>\n      <td>Australia and New Zealand</td>\n      <td>9</td>\n      <td>7.286</td>\n      <td>0.03371</td>\n      <td>1.25018</td>\n      <td>1.31967</td>\n      <td>0.90837</td>\n      <td>0.63938</td>\n      <td>0.42922</td>\n      <td>0.47501</td>\n      <td>2.26425</td>\n    </tr>\n    <tr>\n      <th>9</th>\n      <td>Australia</td>\n      <td>Australia and New Zealand</td>\n      <td>10</td>\n      <td>7.284</td>\n      <td>0.04083</td>\n      <td>1.33358</td>\n      <td>1.30923</td>\n      <td>0.93156</td>\n      <td>0.65124</td>\n      <td>0.35637</td>\n      <td>0.43562</td>\n      <td>2.26646</td>\n    </tr>\n  </tbody>\n</table>\n</div>"
     },
     "execution_count": 101,
     "metadata": {},
     "output_type": "execute_result"
    }
   ],
   "source": [
    "happiness2015.head(10)\n"
   ],
   "metadata": {
    "collapsed": false,
    "pycharm": {
     "name": "#%%\n"
    }
   }
  },
  {
   "cell_type": "code",
   "execution_count": 102,
   "outputs": [],
   "source": [
    "happiness2015['Year'] = 2015\n",
    "happiness2016['Year'] = 2016\n",
    "happiness2017['Year'] = 2017"
   ],
   "metadata": {
    "collapsed": false,
    "pycharm": {
     "name": "#%%\n"
    }
   }
  },
  {
   "cell_type": "code",
   "execution_count": 103,
   "outputs": [
    {
     "data": {
      "text/plain": "       Country                     Region  Happiness Rank  Happiness Score  \\\n0  Switzerland             Western Europe               1            7.587   \n1      Iceland             Western Europe               2            7.561   \n2      Denmark             Western Europe               3            7.527   \n3       Norway             Western Europe               4            7.522   \n4       Canada              North America               5            7.427   \n5      Finland             Western Europe               6            7.406   \n6  Netherlands             Western Europe               7            7.378   \n7       Sweden             Western Europe               8            7.364   \n8  New Zealand  Australia and New Zealand               9            7.286   \n9    Australia  Australia and New Zealand              10            7.284   \n\n   Standard Error  Economy (GDP per Capita)   Family  \\\n0         0.03411                   1.39651  1.34951   \n1         0.04884                   1.30232  1.40223   \n2         0.03328                   1.32548  1.36058   \n3         0.03880                   1.45900  1.33095   \n4         0.03553                   1.32629  1.32261   \n5         0.03140                   1.29025  1.31826   \n6         0.02799                   1.32944  1.28017   \n7         0.03157                   1.33171  1.28907   \n8         0.03371                   1.25018  1.31967   \n9         0.04083                   1.33358  1.30923   \n\n   Health (Life Expectancy)  Freedom  Trust (Government Corruption)  \\\n0                   0.94143  0.66557                        0.41978   \n1                   0.94784  0.62877                        0.14145   \n2                   0.87464  0.64938                        0.48357   \n3                   0.88521  0.66973                        0.36503   \n4                   0.90563  0.63297                        0.32957   \n5                   0.88911  0.64169                        0.41372   \n6                   0.89284  0.61576                        0.31814   \n7                   0.91087  0.65980                        0.43844   \n8                   0.90837  0.63938                        0.42922   \n9                   0.93156  0.65124                        0.35637   \n\n   Generosity  Dystopia Residual  Year  \n0     0.29678            2.51738  2015  \n1     0.43630            2.70201  2015  \n2     0.34139            2.49204  2015  \n3     0.34699            2.46531  2015  \n4     0.45811            2.45176  2015  \n5     0.23351            2.61955  2015  \n6     0.47610            2.46570  2015  \n7     0.36262            2.37119  2015  \n8     0.47501            2.26425  2015  \n9     0.43562            2.26646  2015  ",
      "text/html": "<div>\n<style scoped>\n    .dataframe tbody tr th:only-of-type {\n        vertical-align: middle;\n    }\n\n    .dataframe tbody tr th {\n        vertical-align: top;\n    }\n\n    .dataframe thead th {\n        text-align: right;\n    }\n</style>\n<table border=\"1\" class=\"dataframe\">\n  <thead>\n    <tr style=\"text-align: right;\">\n      <th></th>\n      <th>Country</th>\n      <th>Region</th>\n      <th>Happiness Rank</th>\n      <th>Happiness Score</th>\n      <th>Standard Error</th>\n      <th>Economy (GDP per Capita)</th>\n      <th>Family</th>\n      <th>Health (Life Expectancy)</th>\n      <th>Freedom</th>\n      <th>Trust (Government Corruption)</th>\n      <th>Generosity</th>\n      <th>Dystopia Residual</th>\n      <th>Year</th>\n    </tr>\n  </thead>\n  <tbody>\n    <tr>\n      <th>0</th>\n      <td>Switzerland</td>\n      <td>Western Europe</td>\n      <td>1</td>\n      <td>7.587</td>\n      <td>0.03411</td>\n      <td>1.39651</td>\n      <td>1.34951</td>\n      <td>0.94143</td>\n      <td>0.66557</td>\n      <td>0.41978</td>\n      <td>0.29678</td>\n      <td>2.51738</td>\n      <td>2015</td>\n    </tr>\n    <tr>\n      <th>1</th>\n      <td>Iceland</td>\n      <td>Western Europe</td>\n      <td>2</td>\n      <td>7.561</td>\n      <td>0.04884</td>\n      <td>1.30232</td>\n      <td>1.40223</td>\n      <td>0.94784</td>\n      <td>0.62877</td>\n      <td>0.14145</td>\n      <td>0.43630</td>\n      <td>2.70201</td>\n      <td>2015</td>\n    </tr>\n    <tr>\n      <th>2</th>\n      <td>Denmark</td>\n      <td>Western Europe</td>\n      <td>3</td>\n      <td>7.527</td>\n      <td>0.03328</td>\n      <td>1.32548</td>\n      <td>1.36058</td>\n      <td>0.87464</td>\n      <td>0.64938</td>\n      <td>0.48357</td>\n      <td>0.34139</td>\n      <td>2.49204</td>\n      <td>2015</td>\n    </tr>\n    <tr>\n      <th>3</th>\n      <td>Norway</td>\n      <td>Western Europe</td>\n      <td>4</td>\n      <td>7.522</td>\n      <td>0.03880</td>\n      <td>1.45900</td>\n      <td>1.33095</td>\n      <td>0.88521</td>\n      <td>0.66973</td>\n      <td>0.36503</td>\n      <td>0.34699</td>\n      <td>2.46531</td>\n      <td>2015</td>\n    </tr>\n    <tr>\n      <th>4</th>\n      <td>Canada</td>\n      <td>North America</td>\n      <td>5</td>\n      <td>7.427</td>\n      <td>0.03553</td>\n      <td>1.32629</td>\n      <td>1.32261</td>\n      <td>0.90563</td>\n      <td>0.63297</td>\n      <td>0.32957</td>\n      <td>0.45811</td>\n      <td>2.45176</td>\n      <td>2015</td>\n    </tr>\n    <tr>\n      <th>5</th>\n      <td>Finland</td>\n      <td>Western Europe</td>\n      <td>6</td>\n      <td>7.406</td>\n      <td>0.03140</td>\n      <td>1.29025</td>\n      <td>1.31826</td>\n      <td>0.88911</td>\n      <td>0.64169</td>\n      <td>0.41372</td>\n      <td>0.23351</td>\n      <td>2.61955</td>\n      <td>2015</td>\n    </tr>\n    <tr>\n      <th>6</th>\n      <td>Netherlands</td>\n      <td>Western Europe</td>\n      <td>7</td>\n      <td>7.378</td>\n      <td>0.02799</td>\n      <td>1.32944</td>\n      <td>1.28017</td>\n      <td>0.89284</td>\n      <td>0.61576</td>\n      <td>0.31814</td>\n      <td>0.47610</td>\n      <td>2.46570</td>\n      <td>2015</td>\n    </tr>\n    <tr>\n      <th>7</th>\n      <td>Sweden</td>\n      <td>Western Europe</td>\n      <td>8</td>\n      <td>7.364</td>\n      <td>0.03157</td>\n      <td>1.33171</td>\n      <td>1.28907</td>\n      <td>0.91087</td>\n      <td>0.65980</td>\n      <td>0.43844</td>\n      <td>0.36262</td>\n      <td>2.37119</td>\n      <td>2015</td>\n    </tr>\n    <tr>\n      <th>8</th>\n      <td>New Zealand</td>\n      <td>Australia and New Zealand</td>\n      <td>9</td>\n      <td>7.286</td>\n      <td>0.03371</td>\n      <td>1.25018</td>\n      <td>1.31967</td>\n      <td>0.90837</td>\n      <td>0.63938</td>\n      <td>0.42922</td>\n      <td>0.47501</td>\n      <td>2.26425</td>\n      <td>2015</td>\n    </tr>\n    <tr>\n      <th>9</th>\n      <td>Australia</td>\n      <td>Australia and New Zealand</td>\n      <td>10</td>\n      <td>7.284</td>\n      <td>0.04083</td>\n      <td>1.33358</td>\n      <td>1.30923</td>\n      <td>0.93156</td>\n      <td>0.65124</td>\n      <td>0.35637</td>\n      <td>0.43562</td>\n      <td>2.26646</td>\n      <td>2015</td>\n    </tr>\n  </tbody>\n</table>\n</div>"
     },
     "execution_count": 103,
     "metadata": {},
     "output_type": "execute_result"
    }
   ],
   "source": [
    "happiness2015.head(10)"
   ],
   "metadata": {
    "collapsed": false,
    "pycharm": {
     "name": "#%%\n"
    }
   }
  },
  {
   "cell_type": "code",
   "execution_count": 104,
   "outputs": [
    {
     "data": {
      "text/plain": "       Country                     Region  Happiness Rank  Happiness Score  \\\n0      Denmark             Western Europe               1            7.526   \n1  Switzerland             Western Europe               2            7.509   \n2      Iceland             Western Europe               3            7.501   \n3       Norway             Western Europe               4            7.498   \n4      Finland             Western Europe               5            7.413   \n5       Canada              North America               6            7.404   \n6  Netherlands             Western Europe               7            7.339   \n7  New Zealand  Australia and New Zealand               8            7.334   \n8    Australia  Australia and New Zealand               9            7.313   \n9       Sweden             Western Europe              10            7.291   \n\n   Lower Confidence Interval  Upper Confidence Interval  \\\n0                      7.460                      7.592   \n1                      7.428                      7.590   \n2                      7.333                      7.669   \n3                      7.421                      7.575   \n4                      7.351                      7.475   \n5                      7.335                      7.473   \n6                      7.284                      7.394   \n7                      7.264                      7.404   \n8                      7.241                      7.385   \n9                      7.227                      7.355   \n\n   Economy (GDP per Capita)   Family  Health (Life Expectancy)  Freedom  \\\n0                   1.44178  1.16374                   0.79504  0.57941   \n1                   1.52733  1.14524                   0.86303  0.58557   \n2                   1.42666  1.18326                   0.86733  0.56624   \n3                   1.57744  1.12690                   0.79579  0.59609   \n4                   1.40598  1.13464                   0.81091  0.57104   \n5                   1.44015  1.09610                   0.82760  0.57370   \n6                   1.46468  1.02912                   0.81231  0.55211   \n7                   1.36066  1.17278                   0.83096  0.58147   \n8                   1.44443  1.10476                   0.85120  0.56837   \n9                   1.45181  1.08764                   0.83121  0.58218   \n\n   Trust (Government Corruption)  Generosity  Dystopia Residual  Year  \n0                        0.44453     0.36171            2.73939  2016  \n1                        0.41203     0.28083            2.69463  2016  \n2                        0.14975     0.47678            2.83137  2016  \n3                        0.35776     0.37895            2.66465  2016  \n4                        0.41004     0.25492            2.82596  2016  \n5                        0.31329     0.44834            2.70485  2016  \n6                        0.29927     0.47416            2.70749  2016  \n7                        0.41904     0.49401            2.47553  2016  \n8                        0.32331     0.47407            2.54650  2016  \n9                        0.40867     0.38254            2.54734  2016  ",
      "text/html": "<div>\n<style scoped>\n    .dataframe tbody tr th:only-of-type {\n        vertical-align: middle;\n    }\n\n    .dataframe tbody tr th {\n        vertical-align: top;\n    }\n\n    .dataframe thead th {\n        text-align: right;\n    }\n</style>\n<table border=\"1\" class=\"dataframe\">\n  <thead>\n    <tr style=\"text-align: right;\">\n      <th></th>\n      <th>Country</th>\n      <th>Region</th>\n      <th>Happiness Rank</th>\n      <th>Happiness Score</th>\n      <th>Lower Confidence Interval</th>\n      <th>Upper Confidence Interval</th>\n      <th>Economy (GDP per Capita)</th>\n      <th>Family</th>\n      <th>Health (Life Expectancy)</th>\n      <th>Freedom</th>\n      <th>Trust (Government Corruption)</th>\n      <th>Generosity</th>\n      <th>Dystopia Residual</th>\n      <th>Year</th>\n    </tr>\n  </thead>\n  <tbody>\n    <tr>\n      <th>0</th>\n      <td>Denmark</td>\n      <td>Western Europe</td>\n      <td>1</td>\n      <td>7.526</td>\n      <td>7.460</td>\n      <td>7.592</td>\n      <td>1.44178</td>\n      <td>1.16374</td>\n      <td>0.79504</td>\n      <td>0.57941</td>\n      <td>0.44453</td>\n      <td>0.36171</td>\n      <td>2.73939</td>\n      <td>2016</td>\n    </tr>\n    <tr>\n      <th>1</th>\n      <td>Switzerland</td>\n      <td>Western Europe</td>\n      <td>2</td>\n      <td>7.509</td>\n      <td>7.428</td>\n      <td>7.590</td>\n      <td>1.52733</td>\n      <td>1.14524</td>\n      <td>0.86303</td>\n      <td>0.58557</td>\n      <td>0.41203</td>\n      <td>0.28083</td>\n      <td>2.69463</td>\n      <td>2016</td>\n    </tr>\n    <tr>\n      <th>2</th>\n      <td>Iceland</td>\n      <td>Western Europe</td>\n      <td>3</td>\n      <td>7.501</td>\n      <td>7.333</td>\n      <td>7.669</td>\n      <td>1.42666</td>\n      <td>1.18326</td>\n      <td>0.86733</td>\n      <td>0.56624</td>\n      <td>0.14975</td>\n      <td>0.47678</td>\n      <td>2.83137</td>\n      <td>2016</td>\n    </tr>\n    <tr>\n      <th>3</th>\n      <td>Norway</td>\n      <td>Western Europe</td>\n      <td>4</td>\n      <td>7.498</td>\n      <td>7.421</td>\n      <td>7.575</td>\n      <td>1.57744</td>\n      <td>1.12690</td>\n      <td>0.79579</td>\n      <td>0.59609</td>\n      <td>0.35776</td>\n      <td>0.37895</td>\n      <td>2.66465</td>\n      <td>2016</td>\n    </tr>\n    <tr>\n      <th>4</th>\n      <td>Finland</td>\n      <td>Western Europe</td>\n      <td>5</td>\n      <td>7.413</td>\n      <td>7.351</td>\n      <td>7.475</td>\n      <td>1.40598</td>\n      <td>1.13464</td>\n      <td>0.81091</td>\n      <td>0.57104</td>\n      <td>0.41004</td>\n      <td>0.25492</td>\n      <td>2.82596</td>\n      <td>2016</td>\n    </tr>\n    <tr>\n      <th>5</th>\n      <td>Canada</td>\n      <td>North America</td>\n      <td>6</td>\n      <td>7.404</td>\n      <td>7.335</td>\n      <td>7.473</td>\n      <td>1.44015</td>\n      <td>1.09610</td>\n      <td>0.82760</td>\n      <td>0.57370</td>\n      <td>0.31329</td>\n      <td>0.44834</td>\n      <td>2.70485</td>\n      <td>2016</td>\n    </tr>\n    <tr>\n      <th>6</th>\n      <td>Netherlands</td>\n      <td>Western Europe</td>\n      <td>7</td>\n      <td>7.339</td>\n      <td>7.284</td>\n      <td>7.394</td>\n      <td>1.46468</td>\n      <td>1.02912</td>\n      <td>0.81231</td>\n      <td>0.55211</td>\n      <td>0.29927</td>\n      <td>0.47416</td>\n      <td>2.70749</td>\n      <td>2016</td>\n    </tr>\n    <tr>\n      <th>7</th>\n      <td>New Zealand</td>\n      <td>Australia and New Zealand</td>\n      <td>8</td>\n      <td>7.334</td>\n      <td>7.264</td>\n      <td>7.404</td>\n      <td>1.36066</td>\n      <td>1.17278</td>\n      <td>0.83096</td>\n      <td>0.58147</td>\n      <td>0.41904</td>\n      <td>0.49401</td>\n      <td>2.47553</td>\n      <td>2016</td>\n    </tr>\n    <tr>\n      <th>8</th>\n      <td>Australia</td>\n      <td>Australia and New Zealand</td>\n      <td>9</td>\n      <td>7.313</td>\n      <td>7.241</td>\n      <td>7.385</td>\n      <td>1.44443</td>\n      <td>1.10476</td>\n      <td>0.85120</td>\n      <td>0.56837</td>\n      <td>0.32331</td>\n      <td>0.47407</td>\n      <td>2.54650</td>\n      <td>2016</td>\n    </tr>\n    <tr>\n      <th>9</th>\n      <td>Sweden</td>\n      <td>Western Europe</td>\n      <td>10</td>\n      <td>7.291</td>\n      <td>7.227</td>\n      <td>7.355</td>\n      <td>1.45181</td>\n      <td>1.08764</td>\n      <td>0.83121</td>\n      <td>0.58218</td>\n      <td>0.40867</td>\n      <td>0.38254</td>\n      <td>2.54734</td>\n      <td>2016</td>\n    </tr>\n  </tbody>\n</table>\n</div>"
     },
     "execution_count": 104,
     "metadata": {},
     "output_type": "execute_result"
    }
   ],
   "source": [
    "happiness2016.head(10)"
   ],
   "metadata": {
    "collapsed": false,
    "pycharm": {
     "name": "#%%\n"
    }
   }
  },
  {
   "cell_type": "code",
   "execution_count": 105,
   "outputs": [],
   "source": [
    "head_2015 = happiness2015[['Country','Happiness Score', 'Year']].head(3)\n",
    "head_2016 = happiness2016[['Country','Happiness Score', 'Year']].head(3)\n",
    "concat_axis0 = pd.concat([head_2015, head_2016])\n",
    "concat_axis1 = pd.concat([head_2015, head_2016], axis=1)\n",
    "question1 = 6\n",
    "question2 = 3"
   ],
   "metadata": {
    "collapsed": false,
    "pycharm": {
     "name": "#%%\n"
    }
   }
  },
  {
   "cell_type": "code",
   "execution_count": 106,
   "outputs": [],
   "source": [
    "head_2015 = happiness2015[['Year','Country','Happiness Score', 'Standard Error']].head(4)\n",
    "head_2016 = happiness2016[['Country','Happiness Score', 'Year']].head(3)\n",
    "concat_axis0 = pd.concat([head_2015, head_2016])"
   ],
   "metadata": {
    "collapsed": false,
    "pycharm": {
     "name": "#%%\n"
    }
   }
  },
  {
   "cell_type": "code",
   "execution_count": 107,
   "outputs": [],
   "source": [
    "rows = 7\n",
    "columns = 4\n"
   ],
   "metadata": {
    "collapsed": false,
    "pycharm": {
     "name": "#%%\n"
    }
   }
  },
  {
   "cell_type": "code",
   "execution_count": 108,
   "outputs": [
    {
     "name": "stdout",
     "output_type": "stream",
     "text": [
      "7\n"
     ]
    }
   ],
   "source": [
    "print(rows)"
   ],
   "metadata": {
    "collapsed": false,
    "pycharm": {
     "name": "#%%\n"
    }
   }
  },
  {
   "cell_type": "code",
   "execution_count": 109,
   "outputs": [
    {
     "name": "stdout",
     "output_type": "stream",
     "text": [
      "   Year      Country  Happiness Score  Standard Error\n",
      "0  2015  Switzerland            7.587         0.03411\n",
      "1  2015      Iceland            7.561         0.04884\n",
      "2  2015      Denmark            7.527         0.03328\n",
      "3  2015       Norway            7.522         0.03880\n",
      "0  2016      Denmark            7.526             NaN\n",
      "1  2016  Switzerland            7.509             NaN\n",
      "2  2016      Iceland            7.501             NaN\n"
     ]
    }
   ],
   "source": [
    "print(concat_axis0)"
   ],
   "metadata": {
    "collapsed": false,
    "pycharm": {
     "name": "#%%\n"
    }
   }
  },
  {
   "cell_type": "code",
   "execution_count": 110,
   "outputs": [],
   "source": [
    "head_2015 = happiness2015[['Year','Country','Happiness Score', 'Standard Error']].head(4)\n",
    "head_2016 = happiness2016[['Country','Happiness Score', 'Year']].head(3)\n",
    "concat_update_index = pd.concat([head_2015, head_2016], ignore_index=True)\n",
    "\n"
   ],
   "metadata": {
    "collapsed": false,
    "pycharm": {
     "name": "#%%\n"
    }
   }
  },
  {
   "cell_type": "code",
   "execution_count": 111,
   "outputs": [
    {
     "data": {
      "text/plain": "   Year      Country  Happiness Score  Standard Error\n0  2015  Switzerland            7.587         0.03411\n1  2015      Iceland            7.561         0.04884\n2  2015      Denmark            7.527         0.03328\n3  2015       Norway            7.522         0.03880\n4  2016      Denmark            7.526             NaN\n5  2016  Switzerland            7.509             NaN\n6  2016      Iceland            7.501             NaN",
      "text/html": "<div>\n<style scoped>\n    .dataframe tbody tr th:only-of-type {\n        vertical-align: middle;\n    }\n\n    .dataframe tbody tr th {\n        vertical-align: top;\n    }\n\n    .dataframe thead th {\n        text-align: right;\n    }\n</style>\n<table border=\"1\" class=\"dataframe\">\n  <thead>\n    <tr style=\"text-align: right;\">\n      <th></th>\n      <th>Year</th>\n      <th>Country</th>\n      <th>Happiness Score</th>\n      <th>Standard Error</th>\n    </tr>\n  </thead>\n  <tbody>\n    <tr>\n      <th>0</th>\n      <td>2015</td>\n      <td>Switzerland</td>\n      <td>7.587</td>\n      <td>0.03411</td>\n    </tr>\n    <tr>\n      <th>1</th>\n      <td>2015</td>\n      <td>Iceland</td>\n      <td>7.561</td>\n      <td>0.04884</td>\n    </tr>\n    <tr>\n      <th>2</th>\n      <td>2015</td>\n      <td>Denmark</td>\n      <td>7.527</td>\n      <td>0.03328</td>\n    </tr>\n    <tr>\n      <th>3</th>\n      <td>2015</td>\n      <td>Norway</td>\n      <td>7.522</td>\n      <td>0.03880</td>\n    </tr>\n    <tr>\n      <th>4</th>\n      <td>2016</td>\n      <td>Denmark</td>\n      <td>7.526</td>\n      <td>NaN</td>\n    </tr>\n    <tr>\n      <th>5</th>\n      <td>2016</td>\n      <td>Switzerland</td>\n      <td>7.509</td>\n      <td>NaN</td>\n    </tr>\n    <tr>\n      <th>6</th>\n      <td>2016</td>\n      <td>Iceland</td>\n      <td>7.501</td>\n      <td>NaN</td>\n    </tr>\n  </tbody>\n</table>\n</div>"
     },
     "execution_count": 111,
     "metadata": {},
     "output_type": "execute_result"
    }
   ],
   "source": [
    "concat_update_index.head(10)"
   ],
   "metadata": {
    "collapsed": false,
    "pycharm": {
     "name": "#%%\n"
    }
   }
  },
  {
   "cell_type": "code",
   "execution_count": 112,
   "outputs": [],
   "source": [
    "three_2015 = happiness2015[['Country','Happiness Rank','Year']].iloc[2:5]\n",
    "three_2016 = happiness2016[['Country','Happiness Rank','Year']].iloc[2:5]\n",
    "merged = pd.merge(left=three_2015, right=three_2016, on='Country')"
   ],
   "metadata": {
    "collapsed": false,
    "pycharm": {
     "name": "#%%\n"
    }
   }
  },
  {
   "cell_type": "code",
   "execution_count": 113,
   "outputs": [
    {
     "data": {
      "text/plain": "  Country  Happiness Rank_x  Year_x  Happiness Rank_y  Year_y\n0  Norway                 4    2015                 4    2016",
      "text/html": "<div>\n<style scoped>\n    .dataframe tbody tr th:only-of-type {\n        vertical-align: middle;\n    }\n\n    .dataframe tbody tr th {\n        vertical-align: top;\n    }\n\n    .dataframe thead th {\n        text-align: right;\n    }\n</style>\n<table border=\"1\" class=\"dataframe\">\n  <thead>\n    <tr style=\"text-align: right;\">\n      <th></th>\n      <th>Country</th>\n      <th>Happiness Rank_x</th>\n      <th>Year_x</th>\n      <th>Happiness Rank_y</th>\n      <th>Year_y</th>\n    </tr>\n  </thead>\n  <tbody>\n    <tr>\n      <th>0</th>\n      <td>Norway</td>\n      <td>4</td>\n      <td>2015</td>\n      <td>4</td>\n      <td>2016</td>\n    </tr>\n  </tbody>\n</table>\n</div>"
     },
     "execution_count": 113,
     "metadata": {},
     "output_type": "execute_result"
    }
   ],
   "source": [
    "merged.head(10)"
   ],
   "metadata": {
    "collapsed": false,
    "pycharm": {
     "name": "#%%\n"
    }
   }
  },
  {
   "cell_type": "code",
   "execution_count": 114,
   "outputs": [],
   "source": [
    "\n",
    "merged_left = pd.merge(left=three_2015, right=three_2016, how='left', on='Country')\n",
    "merged_left_updated = pd.merge(left=three_2016, right=three_2015, how='left', on='Country')"
   ],
   "metadata": {
    "collapsed": false,
    "pycharm": {
     "name": "#%%\n"
    }
   }
  },
  {
   "cell_type": "code",
   "execution_count": 115,
   "outputs": [
    {
     "data": {
      "text/plain": "   Country  Happiness Rank_x  Year_x  Happiness Rank_y  Year_y\n0  Denmark                 3    2015               NaN     NaN\n1   Norway                 4    2015               4.0  2016.0\n2   Canada                 5    2015               NaN     NaN",
      "text/html": "<div>\n<style scoped>\n    .dataframe tbody tr th:only-of-type {\n        vertical-align: middle;\n    }\n\n    .dataframe tbody tr th {\n        vertical-align: top;\n    }\n\n    .dataframe thead th {\n        text-align: right;\n    }\n</style>\n<table border=\"1\" class=\"dataframe\">\n  <thead>\n    <tr style=\"text-align: right;\">\n      <th></th>\n      <th>Country</th>\n      <th>Happiness Rank_x</th>\n      <th>Year_x</th>\n      <th>Happiness Rank_y</th>\n      <th>Year_y</th>\n    </tr>\n  </thead>\n  <tbody>\n    <tr>\n      <th>0</th>\n      <td>Denmark</td>\n      <td>3</td>\n      <td>2015</td>\n      <td>NaN</td>\n      <td>NaN</td>\n    </tr>\n    <tr>\n      <th>1</th>\n      <td>Norway</td>\n      <td>4</td>\n      <td>2015</td>\n      <td>4.0</td>\n      <td>2016.0</td>\n    </tr>\n    <tr>\n      <th>2</th>\n      <td>Canada</td>\n      <td>5</td>\n      <td>2015</td>\n      <td>NaN</td>\n      <td>NaN</td>\n    </tr>\n  </tbody>\n</table>\n</div>"
     },
     "execution_count": 115,
     "metadata": {},
     "output_type": "execute_result"
    }
   ],
   "source": [
    "merged_left.head(10)"
   ],
   "metadata": {
    "collapsed": false,
    "pycharm": {
     "name": "#%%\n"
    }
   }
  },
  {
   "cell_type": "code",
   "execution_count": 116,
   "outputs": [
    {
     "data": {
      "text/plain": "   Country  Happiness Rank_x  Year_x  Happiness Rank_y  Year_y\n0  Iceland                 3    2016               NaN     NaN\n1   Norway                 4    2016               4.0  2015.0\n2  Finland                 5    2016               NaN     NaN",
      "text/html": "<div>\n<style scoped>\n    .dataframe tbody tr th:only-of-type {\n        vertical-align: middle;\n    }\n\n    .dataframe tbody tr th {\n        vertical-align: top;\n    }\n\n    .dataframe thead th {\n        text-align: right;\n    }\n</style>\n<table border=\"1\" class=\"dataframe\">\n  <thead>\n    <tr style=\"text-align: right;\">\n      <th></th>\n      <th>Country</th>\n      <th>Happiness Rank_x</th>\n      <th>Year_x</th>\n      <th>Happiness Rank_y</th>\n      <th>Year_y</th>\n    </tr>\n  </thead>\n  <tbody>\n    <tr>\n      <th>0</th>\n      <td>Iceland</td>\n      <td>3</td>\n      <td>2016</td>\n      <td>NaN</td>\n      <td>NaN</td>\n    </tr>\n    <tr>\n      <th>1</th>\n      <td>Norway</td>\n      <td>4</td>\n      <td>2016</td>\n      <td>4.0</td>\n      <td>2015.0</td>\n    </tr>\n    <tr>\n      <th>2</th>\n      <td>Finland</td>\n      <td>5</td>\n      <td>2016</td>\n      <td>NaN</td>\n      <td>NaN</td>\n    </tr>\n  </tbody>\n</table>\n</div>"
     },
     "execution_count": 116,
     "metadata": {},
     "output_type": "execute_result"
    }
   ],
   "source": [
    "merged_left_updated.head(10)"
   ],
   "metadata": {
    "collapsed": false,
    "pycharm": {
     "name": "#%%\n"
    }
   }
  },
  {
   "cell_type": "code",
   "execution_count": 117,
   "outputs": [],
   "source": [
    "three_2015 = happiness2015[['Country','Happiness Rank','Year']].iloc[2:5]\n",
    "three_2016 = happiness2016[['Country','Happiness Rank','Year']].iloc[2:5]\n",
    "merged = pd.merge(left=three_2015, right=three_2016, how='left', on='Country')\n",
    "merged_updated = pd.merge(left=three_2016, right=three_2015, how = 'left', on='Country')\n",
    "merged_suffixes = pd.merge(left=three_2015, right=three_2016, how='left', on='Country', suffixes=('_2015', '_2016'))\n",
    "merged_updated_suffixes = pd.merge(left=three_2016, right=three_2015, how='left', on='Country', suffixes=('_2016', '_2015'))"
   ],
   "metadata": {
    "collapsed": false,
    "pycharm": {
     "name": "#%%\n"
    }
   }
  },
  {
   "cell_type": "code",
   "execution_count": 118,
   "outputs": [
    {
     "data": {
      "text/plain": "   Country  Happiness Rank_2016  Year_2016  Happiness Rank_2015  Year_2015\n0  Iceland                    3       2016                  NaN        NaN\n1   Norway                    4       2016                  4.0     2015.0\n2  Finland                    5       2016                  NaN        NaN",
      "text/html": "<div>\n<style scoped>\n    .dataframe tbody tr th:only-of-type {\n        vertical-align: middle;\n    }\n\n    .dataframe tbody tr th {\n        vertical-align: top;\n    }\n\n    .dataframe thead th {\n        text-align: right;\n    }\n</style>\n<table border=\"1\" class=\"dataframe\">\n  <thead>\n    <tr style=\"text-align: right;\">\n      <th></th>\n      <th>Country</th>\n      <th>Happiness Rank_2016</th>\n      <th>Year_2016</th>\n      <th>Happiness Rank_2015</th>\n      <th>Year_2015</th>\n    </tr>\n  </thead>\n  <tbody>\n    <tr>\n      <th>0</th>\n      <td>Iceland</td>\n      <td>3</td>\n      <td>2016</td>\n      <td>NaN</td>\n      <td>NaN</td>\n    </tr>\n    <tr>\n      <th>1</th>\n      <td>Norway</td>\n      <td>4</td>\n      <td>2016</td>\n      <td>4.0</td>\n      <td>2015.0</td>\n    </tr>\n    <tr>\n      <th>2</th>\n      <td>Finland</td>\n      <td>5</td>\n      <td>2016</td>\n      <td>NaN</td>\n      <td>NaN</td>\n    </tr>\n  </tbody>\n</table>\n</div>"
     },
     "execution_count": 118,
     "metadata": {},
     "output_type": "execute_result"
    }
   ],
   "source": [
    "merged_updated_suffixes.head()"
   ],
   "metadata": {
    "collapsed": false,
    "pycharm": {
     "name": "#%%\n"
    }
   }
  },
  {
   "cell_type": "code",
   "execution_count": 119,
   "outputs": [],
   "source": [
    "four_2015 = happiness2015[['Country','Happiness Rank','Year']].iloc[2:6]\n",
    "\n"
   ],
   "metadata": {
    "collapsed": false,
    "pycharm": {
     "name": "#%%\n"
    }
   }
  },
  {
   "cell_type": "code",
   "execution_count": 120,
   "outputs": [],
   "source": [
    "three_2016 = happiness2016[['Country','Happiness Rank','Year']].iloc[2:5]"
   ],
   "metadata": {
    "collapsed": false,
    "pycharm": {
     "name": "#%%\n"
    }
   }
  },
  {
   "cell_type": "code",
   "execution_count": 121,
   "outputs": [
    {
     "data": {
      "text/plain": "  Country_2015  Happiness Rank_2015  Year_2015 Country_2016  \\\n2      Denmark                    3       2015      Iceland   \n3       Norway                    4       2015       Norway   \n4       Canada                    5       2015      Finland   \n\n   Happiness Rank_2016  Year_2016  \n2                    3       2016  \n3                    4       2016  \n4                    5       2016  ",
      "text/html": "<div>\n<style scoped>\n    .dataframe tbody tr th:only-of-type {\n        vertical-align: middle;\n    }\n\n    .dataframe tbody tr th {\n        vertical-align: top;\n    }\n\n    .dataframe thead th {\n        text-align: right;\n    }\n</style>\n<table border=\"1\" class=\"dataframe\">\n  <thead>\n    <tr style=\"text-align: right;\">\n      <th></th>\n      <th>Country_2015</th>\n      <th>Happiness Rank_2015</th>\n      <th>Year_2015</th>\n      <th>Country_2016</th>\n      <th>Happiness Rank_2016</th>\n      <th>Year_2016</th>\n    </tr>\n  </thead>\n  <tbody>\n    <tr>\n      <th>2</th>\n      <td>Denmark</td>\n      <td>3</td>\n      <td>2015</td>\n      <td>Iceland</td>\n      <td>3</td>\n      <td>2016</td>\n    </tr>\n    <tr>\n      <th>3</th>\n      <td>Norway</td>\n      <td>4</td>\n      <td>2015</td>\n      <td>Norway</td>\n      <td>4</td>\n      <td>2016</td>\n    </tr>\n    <tr>\n      <th>4</th>\n      <td>Canada</td>\n      <td>5</td>\n      <td>2015</td>\n      <td>Finland</td>\n      <td>5</td>\n      <td>2016</td>\n    </tr>\n  </tbody>\n</table>\n</div>"
     },
     "execution_count": 121,
     "metadata": {},
     "output_type": "execute_result"
    }
   ],
   "source": [
    "# Joining happiness2015 and happiness2016 on index using an inner join, so that the result contains only the\n",
    "# elements in the key that appear in BOTH dataframes.\n",
    "\n",
    "pd.merge(left=four_2015, right=three_2016, left_index=True, right_index=True, suffixes=('_2015','_2016'))"
   ],
   "metadata": {
    "collapsed": false,
    "pycharm": {
     "name": "#%%\n"
    }
   }
  },
  {
   "cell_type": "code",
   "execution_count": 122,
   "outputs": [],
   "source": [
    "merge_index = pd.merge(left = four_2015,right = three_2016, left_index = True, right_index = True, suffixes = ('_2015','_2016'))"
   ],
   "metadata": {
    "collapsed": false,
    "pycharm": {
     "name": "#%%\n"
    }
   }
  },
  {
   "cell_type": "code",
   "execution_count": 123,
   "outputs": [
    {
     "data": {
      "text/plain": "  Country_2015  Happiness Rank_2015  Year_2015 Country_2016  \\\n2      Denmark                    3       2015      Iceland   \n3       Norway                    4       2015       Norway   \n4       Canada                    5       2015      Finland   \n\n   Happiness Rank_2016  Year_2016  \n2                    3       2016  \n3                    4       2016  \n4                    5       2016  ",
      "text/html": "<div>\n<style scoped>\n    .dataframe tbody tr th:only-of-type {\n        vertical-align: middle;\n    }\n\n    .dataframe tbody tr th {\n        vertical-align: top;\n    }\n\n    .dataframe thead th {\n        text-align: right;\n    }\n</style>\n<table border=\"1\" class=\"dataframe\">\n  <thead>\n    <tr style=\"text-align: right;\">\n      <th></th>\n      <th>Country_2015</th>\n      <th>Happiness Rank_2015</th>\n      <th>Year_2015</th>\n      <th>Country_2016</th>\n      <th>Happiness Rank_2016</th>\n      <th>Year_2016</th>\n    </tr>\n  </thead>\n  <tbody>\n    <tr>\n      <th>2</th>\n      <td>Denmark</td>\n      <td>3</td>\n      <td>2015</td>\n      <td>Iceland</td>\n      <td>3</td>\n      <td>2016</td>\n    </tr>\n    <tr>\n      <th>3</th>\n      <td>Norway</td>\n      <td>4</td>\n      <td>2015</td>\n      <td>Norway</td>\n      <td>4</td>\n      <td>2016</td>\n    </tr>\n    <tr>\n      <th>4</th>\n      <td>Canada</td>\n      <td>5</td>\n      <td>2015</td>\n      <td>Finland</td>\n      <td>5</td>\n      <td>2016</td>\n    </tr>\n  </tbody>\n</table>\n</div>"
     },
     "execution_count": 123,
     "metadata": {},
     "output_type": "execute_result"
    }
   ],
   "source": [
    "merge_index.head()"
   ],
   "metadata": {
    "collapsed": false,
    "pycharm": {
     "name": "#%%\n"
    }
   }
  },
  {
   "cell_type": "code",
   "execution_count": 124,
   "outputs": [],
   "source": [
    "# Changing the join type used in merge_index to a left join by setting the how parameter equal to 'left'.\n",
    "# Saving the result to merge_index_left.\n",
    "merge_index_left = pd.merge(left=four_2015, right=three_2016, how='left', left_index=True, right_index=True, suffixes=('_2015','_2016'))"
   ],
   "metadata": {
    "collapsed": false,
    "pycharm": {
     "name": "#%%\n"
    }
   }
  },
  {
   "cell_type": "code",
   "execution_count": 125,
   "outputs": [
    {
     "data": {
      "text/plain": "  Country_2015  Happiness Rank_2015  Year_2015 Country_2016  \\\n2      Denmark                    3       2015      Iceland   \n3       Norway                    4       2015       Norway   \n4       Canada                    5       2015      Finland   \n5      Finland                    6       2015          NaN   \n\n   Happiness Rank_2016  Year_2016  \n2                  3.0     2016.0  \n3                  4.0     2016.0  \n4                  5.0     2016.0  \n5                  NaN        NaN  ",
      "text/html": "<div>\n<style scoped>\n    .dataframe tbody tr th:only-of-type {\n        vertical-align: middle;\n    }\n\n    .dataframe tbody tr th {\n        vertical-align: top;\n    }\n\n    .dataframe thead th {\n        text-align: right;\n    }\n</style>\n<table border=\"1\" class=\"dataframe\">\n  <thead>\n    <tr style=\"text-align: right;\">\n      <th></th>\n      <th>Country_2015</th>\n      <th>Happiness Rank_2015</th>\n      <th>Year_2015</th>\n      <th>Country_2016</th>\n      <th>Happiness Rank_2016</th>\n      <th>Year_2016</th>\n    </tr>\n  </thead>\n  <tbody>\n    <tr>\n      <th>2</th>\n      <td>Denmark</td>\n      <td>3</td>\n      <td>2015</td>\n      <td>Iceland</td>\n      <td>3.0</td>\n      <td>2016.0</td>\n    </tr>\n    <tr>\n      <th>3</th>\n      <td>Norway</td>\n      <td>4</td>\n      <td>2015</td>\n      <td>Norway</td>\n      <td>4.0</td>\n      <td>2016.0</td>\n    </tr>\n    <tr>\n      <th>4</th>\n      <td>Canada</td>\n      <td>5</td>\n      <td>2015</td>\n      <td>Finland</td>\n      <td>5.0</td>\n      <td>2016.0</td>\n    </tr>\n    <tr>\n      <th>5</th>\n      <td>Finland</td>\n      <td>6</td>\n      <td>2015</td>\n      <td>NaN</td>\n      <td>NaN</td>\n      <td>NaN</td>\n    </tr>\n  </tbody>\n</table>\n</div>"
     },
     "execution_count": 125,
     "metadata": {},
     "output_type": "execute_result"
    }
   ],
   "source": [
    "merge_index_left.head()\n",
    "\n"
   ],
   "metadata": {
    "collapsed": false,
    "pycharm": {
     "name": "#%%\n"
    }
   }
  },
  {
   "cell_type": "code",
   "execution_count": 126,
   "outputs": [
    {
     "data": {
      "text/plain": "<Figure size 432x288 with 1 Axes>",
      "image/png": "[encoded data removed]"
     },
     "metadata": {
      "needs_background": "light"
     },
     "output_type": "display_data"
    }
   ],
   "source": [
    "happiness2017.rename(columns={'Happiness.Score': 'Happiness Score'}, inplace=True)\n",
    "combined = pd.concat([happiness2015, happiness2016, happiness2017])\n",
    "pivot_table_combined = combined.pivot_table(index='Year', values='Happiness Score', aggfunc=np.mean)\n",
    "pivot_table_combined.plot(kind='barh', title='Mean Happiness Scores by Year', xlim=(0,10))\n",
    "plt.show()"
   ],
   "metadata": {
    "collapsed": false,
    "pycharm": {
     "name": "#%%\n"
    }
   }
  },
  {
   "cell_type": "code",
   "execution_count": 126,
   "outputs": [],
   "source": [
    "\n"
   ],
   "metadata": {
    "collapsed": false,
    "pycharm": {
     "name": "#%%\n"
    }
   }
  }
 ],
 "metadata": {
  "kernelspec": {
   "name": "pythondata",
   "language": "python",
   "display_name": "PythonData"
  },
  "language_info": {
   "codemirror_mode": {
    "name": "ipython",
    "version": 2
   },
   "file_extension": ".py",
   "mimetype": "text/x-python",
   "name": "python",
   "nbconvert_exporter": "python",
   "pygments_lexer": "ipython2",
   "version": "2.7.6"
  }
 },
 "nbformat": 4,
 "nbformat_minor": 0
}